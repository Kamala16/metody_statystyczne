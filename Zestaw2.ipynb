{
 "cells": [
  {
   "cell_type": "markdown",
   "metadata": {},
   "source": [
    "# Zestaw 2"
   ]
  },
  {
   "cell_type": "markdown",
   "metadata": {},
   "source": [
    "## Zadanie 1"
   ]
  },
  {
   "cell_type": "markdown",
   "metadata": {},
   "source": [
    "Stany serwera: \\\n",
    "    0 -> użytkownicy niezalogowani \\\n",
    "    1 -> jeden zalogowany użytkownik \\\n",
    "    2 -> dwóch zalogowanych użytkowników"
   ]
  },
  {
   "cell_type": "code",
   "execution_count": 1,
   "metadata": {},
   "outputs": [
    {
     "name": "stdout",
     "output_type": "stream",
     "text": [
      "[[0.64 0.32 0.04]\n",
      " [0.4  0.5  0.1 ]\n",
      " [0.25 0.5  0.25]]\n"
     ]
    }
   ],
   "source": [
    "import numpy as np\n",
    "\n",
    "p00=0.8*0.8\n",
    "p01=0.8*0.2+0.2*0.8\n",
    "p02=0.2*0.2\n",
    "p10=0.8*0.5\n",
    "p11=0.2*0.5+0.8*0.5\n",
    "p12=0.2*0.5\n",
    "p20=0.5*0.5\n",
    "p21=0.5*0.5*2\n",
    "p22=0.5*0.5\n",
    "\n",
    "P = np.array([[p00, p01, p02], [p10, p11, p12], [p20, p21, p22]])\n",
    "print(P)"
   ]
  },
  {
   "cell_type": "markdown",
   "metadata": {},
   "source": [
    "## Zadanie 2"
   ]
  },
  {
   "cell_type": "code",
   "execution_count": 2,
   "metadata": {},
   "outputs": [],
   "source": [
    "from matplotlib import pyplot as plt\n",
    "\n",
    "def diagonala(P_n):\n",
    "    diag = []\n",
    "    for i in range(len(P_n)):\n",
    "        for j in range(len(P_n)):\n",
    "            if(i == j):\n",
    "                diag.append(P_n[i][j])\n",
    "    return diag\n"
   ]
  },
  {
   "cell_type": "code",
   "execution_count": 3,
   "metadata": {},
   "outputs": [
    {
     "name": "stdout",
     "output_type": "stream",
     "text": [
      "[[0.521284 0.401432 0.077284]\n",
      " [0.50179  0.41342  0.08479 ]\n",
      " [0.483025 0.42395  0.093025]]\n"
     ]
    }
   ],
   "source": [
    "n = 3\n",
    "print(np.linalg.matrix_power(P, n))"
   ]
  },
  {
   "cell_type": "code",
   "execution_count": 4,
   "metadata": {},
   "outputs": [
    {
     "name": "stdout",
     "output_type": "stream",
     "text": [
      "11\n",
      "[[0.5102048  0.40816283 0.08163236]\n",
      " [0.51020354 0.40816359 0.08163287]\n",
      " [0.51020227 0.40816435 0.08163338]]\n"
     ]
    }
   ],
   "source": [
    "n_ = 2\n",
    "P_o = P\n",
    "P_n = P @ P\n",
    "diagonala_n = [diagonala(P_n)]\n",
    "while(not np.all(abs(P_n - P_o) < 1e-5)):\n",
    "    P_o = P_n\n",
    "    P_n = P_n @ P\n",
    "    n_+=1\n",
    "    diagonala_n.append(diagonala(P_n))\n",
    "print(n_)\n",
    "print(P_n)"
   ]
  },
  {
   "cell_type": "code",
   "execution_count": 5,
   "metadata": {},
   "outputs": [
    {
     "data": {
      "image/png": "[encoded data removed]",
      "text/plain": [
       "<Figure size 432x288 with 1 Axes>"
      ]
     },
     "metadata": {
      "needs_background": "light"
     },
     "output_type": "display_data"
    }
   ],
   "source": [
    "plt.plot(diagonala_n)\n",
    "plt.title(\"Wartości elementów diagonalnych macierzy P_n w funkcji n\")\n",
    "plt.show()"
   ]
  },
  {
   "cell_type": "code",
   "execution_count": 6,
   "metadata": {},
   "outputs": [
    {
     "name": "stdout",
     "output_type": "stream",
     "text": [
      "Macierz P_n_:\n",
      "[[0.5102048  0.40816283 0.08163236]\n",
      " [0.51020354 0.40816359 0.08163287]\n",
      " [0.51020227 0.40816435 0.08163338]]\n"
     ]
    }
   ],
   "source": [
    "print(\"Macierz P_n_:\")\n",
    "print(P_n)"
   ]
  },
  {
   "cell_type": "code",
   "execution_count": 7,
   "metadata": {},
   "outputs": [
    {
     "name": "stdout",
     "output_type": "stream",
     "text": [
      "P00: 0.5102048046818896, \tP01: 0.40816283147622284, \tP02: 0.08163236384188893\n",
      "Π0: 0.5102, \t\t\tΠ1: 0.4082, \t\t\tΠ2: 0.0816\n"
     ]
    }
   ],
   "source": [
    "print(\"P00: {}, \\tP01: {}, \\tP02: {}\".format(*P_n[0]))\n",
    "print(\"Π0: 0.5102, \\t\\t\\tΠ1: 0.4082, \\t\\t\\tΠ2: 0.0816\")"
   ]
  },
  {
   "cell_type": "markdown",
   "metadata": {},
   "source": [
    "## Zadanie 3"
   ]
  },
  {
   "cell_type": "code",
   "execution_count": 8,
   "metadata": {},
   "outputs": [],
   "source": [
    "n_epoch = 10000\n",
    "stan = [0, 1, 2]\n",
    "p_zal = 0.2\n",
    "p_wyl = 0.5\n",
    "x_end = dict.fromkeys(stan)\n",
    "for s in stan:\n",
    "    x = s\n",
    "    x_end[s] = []\n",
    "    for i in range(n_epoch):\n",
    "        for j in range(n_):\n",
    "            u = np.random.uniform()\n",
    "            stan_docelowy = 0\n",
    "            while(u > P[x, stan_docelowy]):\n",
    "                u -= P[x, stan_docelowy]\n",
    "                stan_docelowy += 1\n",
    "            x = stan_docelowy\n",
    "        x_end[s].append(x)"
   ]
  },
  {
   "cell_type": "code",
   "execution_count": 9,
   "metadata": {},
   "outputs": [
    {
     "name": "stdout",
     "output_type": "stream",
     "text": [
      "Stan początkowy: s = 0\n",
      "Dla i = 0: Π = 0.5072\n",
      "Dla i = 1: Π = 0.411\n",
      "Dla i = 2: Π = 0.0818\n",
      "Stan początkowy: s = 1\n",
      "Dla i = 0: Π = 0.5068\n",
      "Dla i = 1: Π = 0.4114\n",
      "Dla i = 2: Π = 0.0818\n",
      "Stan początkowy: s = 2\n",
      "Dla i = 0: Π = 0.5067\n",
      "Dla i = 1: Π = 0.4084\n",
      "Dla i = 2: Π = 0.0849\n"
     ]
    }
   ],
   "source": [
    "for s in stan:\n",
    "    x0 = np.sum(np.array(x_end[s]) == 0)\n",
    "    x1 = np.sum(np.array(x_end[s]) == 1)\n",
    "    x2 = np.sum(np.array(x_end[s]) == 2)\n",
    "    pi0 = x0/n_epoch\n",
    "    pi1 = x1/n_epoch\n",
    "    pi2 = x2/n_epoch\n",
    "    print(\"Stan początkowy: s = {}\".format(s))\n",
    "    print(\"Dla i = 0: Π = {}\".format(x0/n_epoch))\n",
    "    print(\"Dla i = 1: Π = {}\".format(x1/n_epoch))\n",
    "    print(\"Dla i = 2: Π = {}\".format(x2/n_epoch))"
   ]
  },
  {
   "cell_type": "markdown",
   "metadata": {},
   "source": [
    "## Zadanie 4"
   ]
  },
  {
   "cell_type": "code",
   "execution_count": 10,
   "metadata": {},
   "outputs": [],
   "source": [
    "p_zal = 0.2\n",
    "p_wyl = 0.5"
   ]
  },
  {
   "cell_type": "code",
   "execution_count": 11,
   "metadata": {},
   "outputs": [],
   "source": [
    "import math\n",
    "\n",
    "def comb(n, k):\n",
    "    num = math.factorial(n)\n",
    "    denom = math.factorial(k) * math.factorial(n-k)\n",
    "    return int(num / denom)"
   ]
  },
  {
   "cell_type": "code",
   "execution_count": 12,
   "metadata": {},
   "outputs": [],
   "source": [
    "def macierz_przejscia(n, p_zal, p_wyl):\n",
    "    P = np.zeros([n+1, n+1])\n",
    "    for i in range(n+1):\n",
    "        for j in range(n+1):\n",
    "            if i < j:\n",
    "                start = range(j-i, min(j+1, n-i+1))\n",
    "                stop = range(0, i+1)\n",
    "            else:\n",
    "                start = range(0, j+1)\n",
    "                stop = range(i-j, min(i+1, n-j+1))\n",
    "            \n",
    "            Actions = list(zip(start, stop))\n",
    "            P[i][j] = sum( [  comb(n-i, a_zal)  * p_zal**a_zal   * (1-p_zal)**(n-i-a_zal)  \\\n",
    "                            * comb(i,   a_wyl) * p_wyl**a_wyl * (1-p_wyl)**(i-a_wyl)  \\\n",
    "                          for (a_zal, a_wyl) in Actions])\n",
    "            \n",
    "    assert np.allclose(P.sum(axis=1), 1)\n",
    "    return P"
   ]
  },
  {
   "cell_type": "code",
   "execution_count": 13,
   "metadata": {},
   "outputs": [
    {
     "name": "stdout",
     "output_type": "stream",
     "text": [
      "11\n",
      "[[2.43908652e-15 9.75632188e-14 1.93174694e-12 ... 1.21228854e-50\n",
      "  9.79624677e-53 3.91848899e-55]\n",
      " [2.43908047e-15 9.75629853e-14 1.93174249e-12 ... 1.21229585e-50\n",
      "  9.79630666e-53 3.91851329e-55]\n",
      " [2.43907442e-15 9.75627518e-14 1.93173803e-12 ... 1.21230316e-50\n",
      "  9.79636655e-53 3.91853758e-55]\n",
      " ...\n",
      " [2.43849378e-15 9.75403391e-14 1.93131035e-12 ... 1.21300473e-50\n",
      "  9.80211753e-53 3.92087064e-55]\n",
      " [2.43848773e-15 9.75401056e-14 1.93130590e-12 ... 1.21301204e-50\n",
      "  9.80217745e-53 3.92089495e-55]\n",
      " [2.43848169e-15 9.75398722e-14 1.93130144e-12 ... 1.21301935e-50\n",
      "  9.80223738e-53 3.92091926e-55]]\n"
     ]
    },
    {
     "data": {
      "text/plain": [
       "array([1., 1., 1., 1., 1., 1., 1., 1., 1., 1., 1., 1., 1., 1., 1., 1., 1.,\n",
       "       1., 1., 1., 1., 1., 1., 1., 1., 1., 1., 1., 1., 1., 1., 1., 1., 1.,\n",
       "       1., 1., 1., 1., 1., 1., 1., 1., 1., 1., 1., 1., 1., 1., 1., 1., 1.,\n",
       "       1., 1., 1., 1., 1., 1., 1., 1., 1., 1., 1., 1., 1., 1., 1., 1., 1.,\n",
       "       1., 1., 1., 1., 1., 1., 1., 1., 1., 1., 1., 1., 1., 1., 1., 1., 1.,\n",
       "       1., 1., 1., 1., 1., 1., 1., 1., 1., 1., 1., 1., 1., 1., 1., 1.])"
      ]
     },
     "execution_count": 13,
     "metadata": {},
     "output_type": "execute_result"
    }
   ],
   "source": [
    "P = macierz_przejscia(100, 0.2, 0.5)\n",
    "n_ = 2\n",
    "P_o = P\n",
    "P_n = P @ P\n",
    "diagonala_n = [diagonala(P_n)]\n",
    "while(not np.all(abs(P_n - P_o) < 1e-5)):\n",
    "    P_o = P_n\n",
    "    P_n = P_n @ P\n",
    "    n_+=1\n",
    "    diagonala_n.append(diagonala(P_n))\n",
    "print(n_)\n",
    "print(P_n)\n",
    "\n",
    "P_n.sum(axis=1)"
   ]
  },
  {
   "cell_type": "code",
   "execution_count": 14,
   "metadata": {},
   "outputs": [
    {
     "data": {
      "image/png": "[encoded data removed]",
      "text/plain": [
       "<Figure size 432x288 with 1 Axes>"
      ]
     },
     "metadata": {
      "needs_background": "light"
     },
     "output_type": "display_data"
    }
   ],
   "source": [
    "plt.plot(diagonala_n)\n",
    "plt.title(\"Wartości elementów diagonalnych macierzy P_n w funkcji n\")\n",
    "plt.show()"
   ]
  },
  {
   "cell_type": "markdown",
   "metadata": {},
   "source": [
    "## Zadanie 5"
   ]
  },
  {
   "cell_type": "code",
   "execution_count": 15,
   "metadata": {},
   "outputs": [],
   "source": [
    "n_epoch = 10000\n",
    "stan = list(range(100+1))\n",
    "p_zal = 0.2\n",
    "p_wyl = 0.5\n",
    "x_end = dict.fromkeys(stan)\n",
    "for s in stan:\n",
    "    x = s\n",
    "    x_end[s] = []\n",
    "    for i in range(n_epoch):\n",
    "        for j in range(n_):\n",
    "            u = np.random.uniform()\n",
    "            stan_docelowy = 0\n",
    "            while(u > P[x, stan_docelowy]):\n",
    "                u -= P[x, stan_docelowy]\n",
    "                stan_docelowy += 1\n",
    "            x = stan_docelowy\n",
    "        x_end[s].append(x)"
   ]
  },
  {
   "cell_type": "code",
   "execution_count": 20,
   "metadata": {},
   "outputs": [],
   "source": [
    "pi = dict.fromkeys(stan)\n",
    "for s in stan:\n",
    "    pi[s] = []\n",
    "    for i in range(100):\n",
    "        n_i = np.sum(np.array(x_end[s]) == i)\n",
    "        pi[s].append(n_i/n_epoch)"
   ]
  },
  {
   "cell_type": "code",
   "execution_count": 21,
   "metadata": {},
   "outputs": [
    {
     "name": "stdout",
     "output_type": "stream",
     "text": [
      "1.0\n",
      "1.0\n",
      "1.0\n",
      "1.0\n",
      "1.0\n",
      "1.0\n",
      "1.0\n",
      "1.0\n",
      "1.0\n",
      "0.9999999999999999\n",
      "1.0\n",
      "1.0\n",
      "1.0\n",
      "1.0\n",
      "0.9999999999999999\n",
      "1.0\n",
      "1.0\n",
      "1.0\n",
      "1.0\n",
      "1.0\n",
      "1.0\n",
      "1.0\n",
      "1.0\n",
      "1.0000000000000002\n",
      "1.0\n",
      "1.0\n",
      "1.0\n",
      "1.0\n",
      "0.9999999999999999\n",
      "1.0\n",
      "0.9999999999999999\n",
      "1.0\n",
      "1.0\n",
      "1.0\n",
      "1.0\n",
      "1.0\n",
      "1.0\n",
      "1.0\n",
      "1.0\n",
      "1.0\n",
      "1.0\n",
      "1.0\n",
      "1.0\n",
      "1.0\n",
      "1.0\n",
      "1.0\n",
      "1.0\n",
      "1.0\n",
      "1.0\n",
      "0.9999999999999999\n",
      "0.9999999999999999\n",
      "1.0\n",
      "1.0\n",
      "0.9999999999999999\n",
      "1.0\n",
      "1.0\n",
      "1.0\n",
      "1.0\n",
      "1.0\n",
      "1.0\n",
      "1.0\n",
      "0.9999999999999999\n",
      "1.0\n",
      "1.0\n",
      "1.0\n",
      "1.0\n",
      "0.9999999999999999\n",
      "1.0\n",
      "1.0\n",
      "1.0\n",
      "0.9999999999999999\n",
      "1.0\n",
      "1.0\n",
      "1.0\n",
      "1.0\n",
      "1.0\n",
      "1.0\n",
      "1.0\n",
      "0.9999999999999999\n",
      "1.0\n",
      "1.0\n",
      "1.0\n",
      "1.0\n",
      "1.0\n",
      "1.0\n",
      "1.0\n",
      "1.0\n",
      "1.0\n",
      "1.0\n",
      "1.0\n",
      "1.0\n",
      "1.0\n",
      "1.0\n",
      "1.0\n",
      "1.0\n",
      "1.0\n",
      "1.0\n",
      "1.0\n",
      "1.0\n",
      "1.0\n",
      "0.9999999999999999\n"
     ]
    }
   ],
   "source": [
    "for s in stan:\n",
    "    print(np.sum(pi[s]))"
   ]
  },
  {
   "cell_type": "code",
   "execution_count": null,
   "metadata": {},
   "outputs": [],
   "source": []
  }
 ],
 "metadata": {
  "kernelspec": {
   "display_name": "Python 3.8.1 64-bit",
   "language": "python",
   "name": "python38164bite553dc3dc77c4cb6819aaffa884d2021"
  },
  "language_info": {
   "codemirror_mode": {
    "name": "ipython",
    "version": 3
   },
   "file_extension": ".py",
   "mimetype": "text/x-python",
   "name": "python",
   "nbconvert_exporter": "python",
   "pygments_lexer": "ipython3",
   "version": "3.8.6"
  }
 },
 "nbformat": 4,
 "nbformat_minor": 4
}
